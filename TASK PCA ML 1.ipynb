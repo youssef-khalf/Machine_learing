{
 "cells": [
  {
   "cell_type": "code",
   "execution_count": 23,
   "id": "69b43601",
   "metadata": {},
   "outputs": [],
   "source": [
    "import numpy as np\n",
    "import pandas as pd\n",
    "import matplotlib as plt"
   ]
  },
  {
   "cell_type": "code",
   "execution_count": 3,
   "id": "5f4a93b4",
   "metadata": {},
   "outputs": [
    {
     "name": "stdout",
     "output_type": "stream",
     "text": [
      "[[1 2 3 4]\n",
      " [5 5 6 7]\n",
      " [1 4 2 3]\n",
      " [5 3 2 1]\n",
      " [8 1 2 2]]\n"
     ]
    }
   ],
   "source": [
    "a=np.array([[1,2,3,4],[5,5,6,7],[1,4,2,3],[5,3,2,1],[8,1,2,2]])\n",
    "print(a)"
   ]
  },
  {
   "cell_type": "code",
   "execution_count": 27,
   "id": "883a283d",
   "metadata": {
    "scrolled": true
   },
   "outputs": [
    {
     "name": "stdout",
     "output_type": "stream",
     "text": [
      "   s1  s2  s3  s4\n",
      "a   1   2   3   4\n",
      "b   5   5   6   7\n",
      "c   1   4   2   3\n",
      "d   5   3   2   1\n",
      "e   8   1   2   2\n"
     ]
    }
   ],
   "source": [
    "colnames=[\"s1\",\"s2\",\"s3\",\"s4\"]\n",
    "rownames=[\"a\",\"b\",\"c\",\"d\",\"e\"]\n",
    "table=pd.DataFrame(a,index=rownames,columns=colnames)\n",
    "print(table)"
   ]
  },
  {
   "cell_type": "code",
   "execution_count": 28,
   "id": "75043203",
   "metadata": {},
   "outputs": [
    {
     "data": {
      "text/html": [
       "<div>\n",
       "<style scoped>\n",
       "    .dataframe tbody tr th:only-of-type {\n",
       "        vertical-align: middle;\n",
       "    }\n",
       "\n",
       "    .dataframe tbody tr th {\n",
       "        vertical-align: top;\n",
       "    }\n",
       "\n",
       "    .dataframe thead th {\n",
       "        text-align: right;\n",
       "    }\n",
       "</style>\n",
       "<table border=\"1\" class=\"dataframe\">\n",
       "  <thead>\n",
       "    <tr style=\"text-align: right;\">\n",
       "      <th></th>\n",
       "      <th>s1</th>\n",
       "      <th>s2</th>\n",
       "      <th>s3</th>\n",
       "      <th>s4</th>\n",
       "    </tr>\n",
       "  </thead>\n",
       "  <tbody>\n",
       "    <tr>\n",
       "      <th>a</th>\n",
       "      <td>-1.000000</td>\n",
       "      <td>-0.632456</td>\n",
       "      <td>0.000000</td>\n",
       "      <td>0.260623</td>\n",
       "    </tr>\n",
       "    <tr>\n",
       "      <th>b</th>\n",
       "      <td>0.333333</td>\n",
       "      <td>1.264911</td>\n",
       "      <td>1.732051</td>\n",
       "      <td>1.563740</td>\n",
       "    </tr>\n",
       "    <tr>\n",
       "      <th>c</th>\n",
       "      <td>-1.000000</td>\n",
       "      <td>0.632456</td>\n",
       "      <td>-0.577350</td>\n",
       "      <td>-0.173749</td>\n",
       "    </tr>\n",
       "    <tr>\n",
       "      <th>d</th>\n",
       "      <td>0.333333</td>\n",
       "      <td>0.000000</td>\n",
       "      <td>-0.577350</td>\n",
       "      <td>-1.042493</td>\n",
       "    </tr>\n",
       "    <tr>\n",
       "      <th>e</th>\n",
       "      <td>1.333333</td>\n",
       "      <td>-1.264911</td>\n",
       "      <td>-0.577350</td>\n",
       "      <td>-0.608121</td>\n",
       "    </tr>\n",
       "  </tbody>\n",
       "</table>\n",
       "</div>"
      ],
      "text/plain": [
       "         s1        s2        s3        s4\n",
       "a -1.000000 -0.632456  0.000000  0.260623\n",
       "b  0.333333  1.264911  1.732051  1.563740\n",
       "c -1.000000  0.632456 -0.577350 -0.173749\n",
       "d  0.333333  0.000000 -0.577350 -1.042493\n",
       "e  1.333333 -1.264911 -0.577350 -0.608121"
      ]
     },
     "execution_count": 28,
     "metadata": {},
     "output_type": "execute_result"
    }
   ],
   "source": [
    "z=(table-table.mean())/table.std()                  #step1\n",
    "z"
   ]
  },
  {
   "cell_type": "code",
   "execution_count": 12,
   "id": "3ce3d209",
   "metadata": {},
   "outputs": [],
   "source": [
    "x=np.matrix(z)#step2/3\n",
    "c=(x-np.mean(x)).T*(x-np.mean(x))/(len(x))\n",
    "eig_val,eig_vec=np.linalg.eig(c)"
   ]
  },
  {
   "cell_type": "code",
   "execution_count": 34,
   "id": "bd48033b",
   "metadata": {
    "scrolled": true
   },
   "outputs": [
    {
     "name": "stdout",
     "output_type": "stream",
     "text": [
      "[0 1 2 3]\n"
     ]
    }
   ],
   "source": [
    "print(eig_val.argsort()[::-1])                          #step4"
   ]
  },
  {
   "cell_type": "code",
   "execution_count": 35,
   "id": "9d8b1533",
   "metadata": {},
   "outputs": [
    {
     "data": {
      "text/plain": [
       "array([2.01263459, 0.8522308 , 0.31510964, 0.02002497])"
      ]
     },
     "execution_count": 35,
     "metadata": {},
     "output_type": "execute_result"
    }
   ],
   "source": [
    "eig_val"
   ]
  },
  {
   "cell_type": "code",
   "execution_count": 36,
   "id": "bff6aece",
   "metadata": {},
   "outputs": [
    {
     "data": {
      "text/plain": [
       "matrix([[ 0.16195986, -0.91705888, -0.30707099,  0.19616173],\n",
       "        [-0.52404813,  0.20692161, -0.81731886,  0.12061043],\n",
       "        [-0.58589647, -0.3205394 ,  0.1882497 , -0.72009851],\n",
       "        [-0.59654663, -0.11593512,  0.44973251,  0.65454704]])"
      ]
     },
     "execution_count": 36,
     "metadata": {},
     "output_type": "execute_result"
    }
   ],
   "source": [
    "eig_vec"
   ]
  },
  {
   "cell_type": "code",
   "execution_count": 37,
   "id": "ecf4c8e4",
   "metadata": {},
   "outputs": [
    {
     "data": {
      "text/plain": [
       "matrix([[ 0.16195986, -0.91705888],\n",
       "        [-0.52404813,  0.20692161],\n",
       "        [-0.58589647, -0.3205394 ],\n",
       "        [-0.59654663, -0.11593512]])"
      ]
     },
     "execution_count": 37,
     "metadata": {},
     "output_type": "execute_result"
    }
   ],
   "source": [
    "v=eig_vec[0:,0:2]                                        #step5\n",
    "v"
   ]
  },
  {
   "cell_type": "code",
   "execution_count": 33,
   "id": "0164e883",
   "metadata": {},
   "outputs": [
    {
     "data": {
      "text/plain": [
       "matrix([[ 1.40033078e-02,  7.55974765e-01],\n",
       "        [-2.55653399e+00, -7.80431775e-01],\n",
       "        [-5.14801919e-02,  1.25313470e+00],\n",
       "        [ 1.01415002e+00,  2.38808310e-04],\n",
       "        [ 1.57986086e+00, -1.22891650e+00]])"
      ]
     },
     "execution_count": 33,
     "metadata": {},
     "output_type": "execute_result"
    }
   ],
   "source": [
    "d=x*v                                                        #step6\n",
    "d"
   ]
  },
  {
   "cell_type": "code",
   "execution_count": null,
   "id": "6cb66fb3",
   "metadata": {},
   "outputs": [],
   "source": []
  },
  {
   "cell_type": "code",
   "execution_count": null,
   "id": "f20a6ceb",
   "metadata": {},
   "outputs": [],
   "source": []
  },
  {
   "cell_type": "code",
   "execution_count": null,
   "id": "ca8fbb06",
   "metadata": {},
   "outputs": [],
   "source": []
  },
  {
   "cell_type": "code",
   "execution_count": null,
   "id": "086aa553",
   "metadata": {},
   "outputs": [],
   "source": []
  }
 ],
 "metadata": {
  "kernelspec": {
   "display_name": "Python 3 (ipykernel)",
   "language": "python",
   "name": "python3"
  },
  "language_info": {
   "codemirror_mode": {
    "name": "ipython",
    "version": 3
   },
   "file_extension": ".py",
   "mimetype": "text/x-python",
   "name": "python",
   "nbconvert_exporter": "python",
   "pygments_lexer": "ipython3",
   "version": "3.9.7"
  }
 },
 "nbformat": 4,
 "nbformat_minor": 5
}
